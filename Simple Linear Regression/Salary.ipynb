{
 "cells": [
  {
   "cell_type": "code",
   "execution_count": null,
   "id": "c217ef6a",
   "metadata": {},
   "outputs": [],
   "source": [
    "import pandas as pd\n",
    "import numpy as np\n",
    "import matplotlib.pyplot as plt\n",
    "%matplotlib inline"
   ]
  },
  {
   "cell_type": "code",
   "execution_count": null,
   "id": "b6654c60",
   "metadata": {},
   "outputs": [],
   "source": [
    "import plotly.express as py\n",
    "import plotly.graph_objects as go\n",
    "import plotly.figure_factory as ff\n",
    "from plotly.offline import init_notebook_mode, iplot\n",
    "import cufflinks as cf\n",
    "init_notebook_mode(connected=True)\n",
    "cf.go_offline()"
   ]
  },
  {
   "cell_type": "code",
   "execution_count": null,
   "id": "4b5c91e2",
   "metadata": {},
   "outputs": [],
   "source": [
    "from sklearn.linear_model import LinearRegression\n",
    "from sklearn.metrics import r2_score, mean_squared_error\n",
    "import statsmodels.formula.api as sm"
   ]
  },
  {
   "cell_type": "code",
   "execution_count": null,
   "id": "35fed368",
   "metadata": {},
   "outputs": [],
   "source": [
    "import warnings\n",
    "warnings.filterwarnings('ignore')"
   ]
  },
  {
   "cell_type": "code",
   "execution_count": null,
   "id": "a217b502",
   "metadata": {},
   "outputs": [],
   "source": [
    "df = pd.read_csv('Salary_Data.csv')\n",
    "df.head()"
   ]
  },
  {
   "cell_type": "code",
   "execution_count": null,
   "id": "2c39a4eb",
   "metadata": {},
   "outputs": [],
   "source": [
    "df.shape"
   ]
  },
  {
   "cell_type": "code",
   "execution_count": null,
   "id": "813856cf",
   "metadata": {},
   "outputs": [],
   "source": [
    "x = df.iloc[:, :1]\n",
    "y = df.iloc[:, 1:]"
   ]
  },
  {
   "cell_type": "code",
   "execution_count": null,
   "id": "c692b783",
   "metadata": {},
   "outputs": [],
   "source": [
    "x.head(1)"
   ]
  },
  {
   "cell_type": "code",
   "execution_count": null,
   "id": "fcd1b3b9",
   "metadata": {},
   "outputs": [],
   "source": [
    "y.head(1)"
   ]
  },
  {
   "cell_type": "code",
   "execution_count": null,
   "id": "753a642d",
   "metadata": {},
   "outputs": [],
   "source": [
    "plot = py.scatter(df, x='YearsExperience', y='Salary', trendline='ols',\n",
    "        labels={'Salary': 'Salary', 'YearsExperience': 'Years Experience'})\n",
    "plot.show()"
   ]
  },
  {
   "cell_type": "code",
   "execution_count": null,
   "id": "7fef831a",
   "metadata": {},
   "outputs": [],
   "source": [
    "dist = ff.create_distplot([df['YearsExperience']], ['Years Experience'])\n",
    "dist.show()"
   ]
  },
  {
   "cell_type": "code",
   "execution_count": null,
   "id": "7a539a4b",
   "metadata": {},
   "outputs": [],
   "source": [
    "df['Salary'].iplot(kind='hist', color='blue')"
   ]
  },
  {
   "cell_type": "code",
   "execution_count": null,
   "id": "883b97a2",
   "metadata": {},
   "outputs": [],
   "source": [
    "df.iplot(kind='bar', x='YearsExperience', y='Salary')"
   ]
  },
  {
   "cell_type": "code",
   "execution_count": null,
   "id": "cf8c5309",
   "metadata": {},
   "outputs": [],
   "source": [
    "df['Salary'].iplot(kind='box', color='blue')"
   ]
  },
  {
   "cell_type": "code",
   "execution_count": null,
   "id": "247ce474",
   "metadata": {},
   "outputs": [],
   "source": [
    "r2socreList = []\n",
    "\n",
    "def getRScore():\n",
    "    return r2socreList\n",
    "\n",
    "def addRScore(modelNum, value, intercept, mse):\n",
    "    obj = {\n",
    "        'model': modelNum,\n",
    "        'rsquared': round(value, 3),\n",
    "#         'intercept': round(intercept, 3),\n",
    "        'mse': round(mse, 3)\n",
    "    }\n",
    "    r2socreList.append(obj)"
   ]
  },
  {
   "cell_type": "markdown",
   "id": "e029836c",
   "metadata": {},
   "source": [
    "### Using OLS Model"
   ]
  },
  {
   "cell_type": "code",
   "execution_count": null,
   "id": "b75c4685",
   "metadata": {},
   "outputs": [],
   "source": [
    "model1 = sm.ols(\"Salary~YearsExperience\", data=df).fit()\n",
    "mse = mean_squared_error(y, model1.predict())\n",
    "addRScore('model1', model1.rsquared, model1.pvalues.Intercept, mse)\n",
    "# model1.summary()"
   ]
  },
  {
   "cell_type": "code",
   "execution_count": null,
   "id": "2997e3bf",
   "metadata": {},
   "outputs": [],
   "source": [
    "plot=py.scatter(df, x='YearsExperience', y='Salary', labels={'Salary': 'Salary', 'YearsExperience': 'Years Experience'})\n",
    "plot.add_traces(go.Scatter(x=df['YearsExperience'], y=model1.predict(), name='Regression Fit', mode=\"markers\"))\n",
    "plot.show()"
   ]
  },
  {
   "cell_type": "code",
   "execution_count": null,
   "id": "5254aef9",
   "metadata": {},
   "outputs": [],
   "source": [
    "model2 = sm.ols(\"Salary~np.log(YearsExperience)\",data=df).fit()\n",
    "mse = mean_squared_error(y, model2.predict())\n",
    "addRScore('model2', model2.rsquared, model2.pvalues.Intercept, mse)"
   ]
  },
  {
   "cell_type": "code",
   "execution_count": null,
   "id": "a04f018d",
   "metadata": {},
   "outputs": [],
   "source": [
    "plot=py.scatter(df, x='YearsExperience', y='Salary', labels={'Salary': 'Salary', 'YearsExperience': 'Years Experience'})\n",
    "plot.add_traces(go.Scatter(x=df['YearsExperience'], y=model2.predict(), name='Regression Fit', mode=\"markers\"))\n",
    "plot.show()"
   ]
  },
  {
   "cell_type": "code",
   "execution_count": null,
   "id": "65027bdb",
   "metadata": {},
   "outputs": [],
   "source": [
    "model3 = sm.ols(\"Salary~np.sqrt(YearsExperience)\",data=df).fit()\n",
    "mse = mean_squared_error(y, model3.predict())\n",
    "addRScore('model3', model3.rsquared, model3.pvalues.Intercept, mse)"
   ]
  },
  {
   "cell_type": "code",
   "execution_count": null,
   "id": "025e95b1",
   "metadata": {},
   "outputs": [],
   "source": [
    "model4 = sm.ols(\"Salary~np.cbrt(YearsExperience)\",data=df).fit()\n",
    "mse = mean_squared_error(y, model4.predict())\n",
    "addRScore('model4', model4.rsquared, model4.pvalues.Intercept, mse)"
   ]
  },
  {
   "cell_type": "code",
   "execution_count": null,
   "id": "bdc0d26d",
   "metadata": {},
   "outputs": [],
   "source": [
    "model5=sm.ols(\"Salary~YearsExperience+pow(YearsExperience,2)\",data=df).fit()\n",
    "mse = mean_squared_error(y, model5.predict())\n",
    "addRScore('model5', model5.rsquared, model5.pvalues.Intercept, mse)"
   ]
  },
  {
   "cell_type": "code",
   "execution_count": null,
   "id": "e0cde1fb",
   "metadata": {},
   "outputs": [],
   "source": [
    "plot=py.scatter(df, x='YearsExperience', y='Salary', labels={'Salary': 'Salary', 'YearsExperience': 'Years Experience'})\n",
    "plot.add_traces(go.Scatter(x=df['YearsExperience'], y=model5.predict(), name='Regression Fit', mode=\"markers\"))\n",
    "plot.show()"
   ]
  },
  {
   "cell_type": "code",
   "execution_count": null,
   "id": "0cb7657f",
   "metadata": {},
   "outputs": [],
   "source": [
    "getRScore()"
   ]
  },
  {
   "cell_type": "markdown",
   "id": "1db86062",
   "metadata": {},
   "source": [
    "### Looking like Model 1 is Better"
   ]
  },
  {
   "cell_type": "code",
   "execution_count": null,
   "id": "960d00d1",
   "metadata": {},
   "outputs": [],
   "source": [
    "df['predicted'] = model1.fittedvalues"
   ]
  },
  {
   "cell_type": "code",
   "execution_count": null,
   "id": "61f8844e",
   "metadata": {},
   "outputs": [],
   "source": [
    "df.head(1)"
   ]
  },
  {
   "cell_type": "markdown",
   "id": "9dd515b0",
   "metadata": {},
   "source": [
    "### Prediction Using New Data Point"
   ]
  },
  {
   "cell_type": "code",
   "execution_count": null,
   "id": "1bdd1283",
   "metadata": {},
   "outputs": [],
   "source": [
    "newdata = pd.Series([11, 12, 13, 15, 20])\n",
    "newdf = pd.DataFrame(newdata, columns = ['YearsExperience'])\n",
    "newdf"
   ]
  },
  {
   "cell_type": "code",
   "execution_count": null,
   "id": "96519103",
   "metadata": {},
   "outputs": [],
   "source": [
    "newdf['Predicted'] = model1.predict(newdf)\n",
    "newdf"
   ]
  }
 ],
 "metadata": {
  "kernelspec": {
   "display_name": "Python 3 (ipykernel)",
   "language": "python",
   "name": "python3"
  },
  "language_info": {
   "codemirror_mode": {
    "name": "ipython",
    "version": 3
   },
   "file_extension": ".py",
   "mimetype": "text/x-python",
   "name": "python",
   "nbconvert_exporter": "python",
   "pygments_lexer": "ipython3",
   "version": "3.10.9"
  }
 },
 "nbformat": 4,
 "nbformat_minor": 5
}
