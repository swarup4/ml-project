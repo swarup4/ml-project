{
 "cells": [
  {
   "cell_type": "code",
   "execution_count": 18,
   "id": "9aa296f7-b51c-4338-a45e-fe80f8de3f62",
   "metadata": {},
   "outputs": [
    {
     "name": "stdout",
     "output_type": "stream",
     "text": [
      "Warning: Missing values detected! Replacing with column mean.\n"
     ]
    },
    {
     "name": "stderr",
     "output_type": "stream",
     "text": [
      "/var/folders/q4/m_b1xrxn53j9tp7kn4drjl080000gn/T/ipykernel_62613/110871335.py:28: FutureWarning: Downcasting object dtype arrays on .fillna, .ffill, .bfill is deprecated and will change in a future version. Call result.infer_objects(copy=False) instead. To opt-in to the future behavior, set `pd.set_option('future.no_silent_downcasting', True)`\n",
      "  data.fillna(data.mean(), inplace=True)  # Replace NaNs with column mean\n",
      "/var/folders/q4/m_b1xrxn53j9tp7kn4drjl080000gn/T/ipykernel_62613/110871335.py:28: SettingWithCopyWarning: \n",
      "A value is trying to be set on a copy of a slice from a DataFrame.\n",
      "Try using .loc[row_indexer,col_indexer] = value instead\n",
      "\n",
      "See the caveats in the documentation: https://pandas.pydata.org/pandas-docs/stable/user_guide/indexing.html#returning-a-view-versus-a-copy\n",
      "  data.fillna(data.mean(), inplace=True)  # Replace NaNs with column mean\n",
      "/var/folders/q4/m_b1xrxn53j9tp7kn4drjl080000gn/T/ipykernel_62613/110871335.py:28: SettingWithCopyWarning: \n",
      "A value is trying to be set on a copy of a slice from a DataFrame\n",
      "\n",
      "See the caveats in the documentation: https://pandas.pydata.org/pandas-docs/stable/user_guide/indexing.html#returning-a-view-versus-a-copy\n",
      "  data.fillna(data.mean(), inplace=True)  # Replace NaNs with column mean\n",
      "/opt/anaconda3/lib/python3.12/site-packages/sklearn/utils/extmath.py:1137: RuntimeWarning: invalid value encountered in divide\n",
      "  updated_mean = (last_sum + new_sum) / updated_sample_count\n",
      "/opt/anaconda3/lib/python3.12/site-packages/sklearn/utils/extmath.py:1142: RuntimeWarning: invalid value encountered in divide\n",
      "  T = new_sum / new_sample_count\n",
      "/opt/anaconda3/lib/python3.12/site-packages/sklearn/utils/extmath.py:1162: RuntimeWarning: invalid value encountered in divide\n",
      "  new_unnormalized_variance -= correction**2 / new_sample_count\n"
     ]
    },
    {
     "ename": "ValueError",
     "evalue": "Data still contains NaN or infinite values after scaling!",
     "output_type": "error",
     "traceback": [
      "\u001b[0;31m---------------------------------------------------------------------------\u001b[0m",
      "\u001b[0;31mValueError\u001b[0m                                Traceback (most recent call last)",
      "Cell \u001b[0;32mIn[18], line 40\u001b[0m\n\u001b[1;32m     38\u001b[0m \u001b[38;5;66;03m# **Check again after scaling**\u001b[39;00m\n\u001b[1;32m     39\u001b[0m \u001b[38;5;28;01mif\u001b[39;00m np\u001b[38;5;241m.\u001b[39misnan(data_scaled)\u001b[38;5;241m.\u001b[39msum() \u001b[38;5;241m>\u001b[39m \u001b[38;5;241m0\u001b[39m \u001b[38;5;129;01mor\u001b[39;00m np\u001b[38;5;241m.\u001b[39misinf(data_scaled)\u001b[38;5;241m.\u001b[39msum() \u001b[38;5;241m>\u001b[39m \u001b[38;5;241m0\u001b[39m:\n\u001b[0;32m---> 40\u001b[0m     \u001b[38;5;28;01mraise\u001b[39;00m \u001b[38;5;167;01mValueError\u001b[39;00m(\u001b[38;5;124m\"\u001b[39m\u001b[38;5;124mData still contains NaN or infinite values after scaling!\u001b[39m\u001b[38;5;124m\"\u001b[39m)\n\u001b[1;32m     42\u001b[0m \u001b[38;5;66;03m# Hierarchical Clustering\u001b[39;00m\n\u001b[1;32m     43\u001b[0m plt\u001b[38;5;241m.\u001b[39mfigure(figsize\u001b[38;5;241m=\u001b[39m(\u001b[38;5;241m10\u001b[39m, \u001b[38;5;241m5\u001b[39m))\n",
      "\u001b[0;31mValueError\u001b[0m: Data still contains NaN or infinite values after scaling!"
     ]
    }
   ],
   "source": [
    "import pandas as pd\n",
    "import numpy as np\n",
    "import matplotlib.pyplot as plt\n",
    "import seaborn as sns\n",
    "from sklearn.preprocessing import StandardScaler\n",
    "from sklearn.cluster import KMeans, DBSCAN\n",
    "from scipy.cluster.hierarchy import linkage, dendrogram, fcluster\n",
    "\n",
    "# Load the dataset\n",
    "file_path = \"EastWestAirlines.xlsx\"\n",
    "df = pd.read_excel(file_path)\n",
    "\n",
    "# Drop any extra rows (if needed)\n",
    "df = df.iloc[1:] if 'Data Type' in df.iloc[0].values else df\n",
    "\n",
    "# Reset index\n",
    "df = df.reset_index(drop=True)\n",
    "\n",
    "# Convert columns to numeric (excluding ID)\n",
    "df.iloc[:, 1:] = df.iloc[:, 1:].apply(pd.to_numeric, errors='coerce')\n",
    "\n",
    "# Drop ID column\n",
    "data = df.iloc[:, 1:]\n",
    "\n",
    "# **Check for NaN or infinite values**\n",
    "if data.isnull().sum().sum() > 0:\n",
    "    print(\"Warning: Missing values detected! Replacing with column mean.\")\n",
    "    data.fillna(data.mean(), inplace=True)  # Replace NaNs with column mean\n",
    "\n",
    "if np.isinf(data.values).sum() > 0:\n",
    "    print(\"Warning: Infinite values detected! Replacing with column mean.\")\n",
    "    data.replace([np.inf, -np.inf], data.mean(), inplace=True)\n",
    "\n",
    "# Standardize the data\n",
    "scaler = StandardScaler()\n",
    "data_scaled = scaler.fit_transform(data)\n",
    "\n",
    "# **Check again after scaling**\n",
    "if np.isnan(data_scaled).sum() > 0 or np.isinf(data_scaled).sum() > 0:\n",
    "    raise ValueError(\"Data still contains NaN or infinite values after scaling!\")\n",
    "\n",
    "# Hierarchical Clustering\n",
    "plt.figure(figsize=(10, 5))\n",
    "linkage_matrix = linkage(data_scaled, method='ward')\n",
    "dendrogram(linkage_matrix)\n",
    "plt.title('Dendrogram for Hierarchical Clustering')\n",
    "plt.xlabel('Data Points')\n",
    "plt.ylabel('Euclidean Distance')\n",
    "plt.show()\n",
    "\n",
    "# Determine clusters\n",
    "num_clusters = 4  # Adjust based on dendrogram\n",
    "hierarchical_clusters = fcluster(linkage_matrix, num_clusters, criterion='maxclust')\n",
    "df['Hierarchical Cluster'] = hierarchical_clusters\n",
    "\n",
    "# K-Means Clustering\n",
    "kmeans = KMeans(n_clusters=num_clusters, random_state=42)\n",
    "kmeans_clusters = kmeans.fit_predict(data_scaled)\n",
    "df['KMeans Cluster'] = kmeans_clusters\n",
    "\n",
    "# DBSCAN Clustering\n",
    "dbscan = DBSCAN(eps=1.5, min_samples=5)\n",
    "dbscan_clusters = dbscan.fit_predict(data_scaled)\n",
    "df['DBSCAN Cluster'] = dbscan_clusters\n",
    "\n",
    "# Display cluster results\n",
    "print(df[['ID', 'Hierarchical Cluster', 'KMeans Cluster', 'DBSCAN Cluster']].head())\n",
    "\n",
    "# Scatter plot for KMeans Clustering\n",
    "plt.figure(figsize=(8, 6))\n",
    "sns.scatterplot(x=data_scaled[:, 0], y=data_scaled[:, 1], hue=kmeans_clusters, palette='viridis', s=100)\n",
    "plt.title('K-Means Clustering')\n",
    "plt.xlabel('Balance (Standardized)')\n",
    "plt.ylabel('Qual_mile (Standardized)')\n",
    "plt.show()"
   ]
  },
  {
   "cell_type": "code",
   "execution_count": null,
   "id": "eeb78ae4-d7ea-439b-9fcd-048bdd75780d",
   "metadata": {},
   "outputs": [],
   "source": []
  }
 ],
 "metadata": {
  "kernelspec": {
   "display_name": "Python [conda env:base] *",
   "language": "python",
   "name": "conda-base-py"
  },
  "language_info": {
   "codemirror_mode": {
    "name": "ipython",
    "version": 3
   },
   "file_extension": ".py",
   "mimetype": "text/x-python",
   "name": "python",
   "nbconvert_exporter": "python",
   "pygments_lexer": "ipython3",
   "version": "3.12.7"
  }
 },
 "nbformat": 4,
 "nbformat_minor": 5
}
